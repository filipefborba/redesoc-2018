{
 "cells": [
  {
   "cell_type": "markdown",
   "metadata": {
    "deletable": false,
    "editable": false
   },
   "source": [
    "<div style=\"background-color: #fff1cd; background-image: url('../socnet.svg'); background-position: 1em 1em; background-repeat: no-repeat; background-size: 3em 3em; box-shadow: 0 0 0.25em 0; color: #403c33; font-weight: bold; min-height: 3em; padding: 1em 1em 1em 5em;\">Este notebook contém alguns códigos que foram usados para produzir o material do encontro. Não é necessário entender esses códigos, mas estamos disponibilizando para quem tiver interesse. Posteriormente, podem ser particularmente úteis no projeto.</div>"
   ]
  },
  {
   "cell_type": "markdown",
   "metadata": {
    "deletable": false,
    "editable": false
   },
   "source": [
    "# Redes Sociais: Apêndice do Encontro 1\n",
    "\n",
    "### Bibliotecas"
   ]
  },
  {
   "cell_type": "code",
   "execution_count": 4,
   "metadata": {
    "deletable": false,
    "editable": false
   },
   "outputs": [
    {
     "data": {
      "text/html": [
       "<script>requirejs.config({paths: { 'plotly': ['https://cdn.plot.ly/plotly-latest.min']},});if(!window.Plotly) {{require(['plotly'],function(plotly) {window.Plotly=plotly;});}}</script>"
      ],
      "text/vnd.plotly.v1+html": [
       "<script>requirejs.config({paths: { 'plotly': ['https://cdn.plot.ly/plotly-latest.min']},});if(!window.Plotly) {{require(['plotly'],function(plotly) {window.Plotly=plotly;});}}</script>"
      ]
     },
     "metadata": {},
     "output_type": "display_data"
    }
   ],
   "source": [
    "import sys\n",
    "sys.path.append('..')\n",
    "\n",
    "from random import choices\n",
    "\n",
    "import numpy as np\n",
    "import matplotlib.pyplot as plt\n",
    "from scipy.stats import norm, linregress\n",
    "import networkx as nx\n",
    "\n",
    "import socnet as sn\n",
    "\n",
    "%matplotlib inline"
   ]
  },
  {
   "cell_type": "markdown",
   "metadata": {
    "deletable": false,
    "editable": false
   },
   "source": [
    "### Configurações"
   ]
  },
  {
   "cell_type": "code",
   "execution_count": 5,
   "metadata": {
    "deletable": false,
    "editable": false
   },
   "outputs": [],
   "source": [
    "NUM_NODES = 100\n",
    "NUM_EDGES = 10\n",
    "\n",
    "SOCIAL_WEIGHT = 0\n",
    "RECIPR_WEIGHT = 0"
   ]
  },
  {
   "cell_type": "markdown",
   "metadata": {
    "deletable": false,
    "editable": false
   },
   "source": [
    "### Funções"
   ]
  },
  {
   "cell_type": "code",
   "execution_count": 6,
   "metadata": {
    "deletable": false,
    "editable": false
   },
   "outputs": [],
   "source": [
    "def perceived(g, n, m):\n",
    "    return (1 - SOCIAL_WEIGHT) * g.nodes[m]['quality'] + SOCIAL_WEIGHT * (g.in_degree(m) - int(g.has_edge(n, m)))\n",
    "\n",
    "\n",
    "def unrequited(g, n, m):\n",
    "    return g.has_edge(n, m) * (g.has_edge(n, m) - g.has_edge(m, n))\n",
    "\n",
    "\n",
    "def single_welfare(g, n, m):\n",
    "    return int(g.has_edge(n, m)) * perceived(g, n, m) - RECIPR_WEIGHT * unrequited(g, n, m)\n",
    "\n",
    "\n",
    "def welfare(g, n):\n",
    "    return sum([single_welfare(g, n, m) for m in g.nodes if n != m])\n",
    "\n",
    "\n",
    "def gain(g, n, m):\n",
    "    before = welfare(g, n)\n",
    "    g.add_edge(n, m)\n",
    "\n",
    "    after = welfare(g, n)\n",
    "    g.remove_edge(n, m)\n",
    "\n",
    "    return after - before"
   ]
  },
  {
   "cell_type": "markdown",
   "metadata": {
    "deletable": false,
    "editable": false
   },
   "source": [
    "### Simulação"
   ]
  },
  {
   "cell_type": "code",
   "execution_count": 7,
   "metadata": {
    "deletable": false,
    "editable": false,
    "scrolled": true
   },
   "outputs": [
    {
     "name": "stdout",
     "output_type": "stream",
     "text": [
      "criando citações do nó 0\n",
      "criando citações do nó 1\n",
      "criando citações do nó 2\n",
      "criando citações do nó 3\n",
      "criando citações do nó 4\n",
      "criando citações do nó 5\n",
      "criando citações do nó 6\n",
      "criando citações do nó 7\n",
      "criando citações do nó 8\n",
      "criando citações do nó 9\n",
      "criando citações do nó 10\n",
      "criando citações do nó 11\n",
      "criando citações do nó 12\n",
      "criando citações do nó 13\n",
      "criando citações do nó 14\n",
      "criando citações do nó 15\n",
      "criando citações do nó 16\n",
      "criando citações do nó 17\n",
      "criando citações do nó 18\n",
      "criando citações do nó 19\n",
      "criando citações do nó 20\n",
      "criando citações do nó 21\n",
      "criando citações do nó 22\n",
      "criando citações do nó 23\n",
      "criando citações do nó 24\n",
      "criando citações do nó 25\n",
      "criando citações do nó 26\n",
      "criando citações do nó 27\n",
      "criando citações do nó 28\n",
      "criando citações do nó 29\n",
      "criando citações do nó 30\n",
      "criando citações do nó 31\n",
      "criando citações do nó 32\n",
      "criando citações do nó 33\n",
      "criando citações do nó 34\n",
      "criando citações do nó 35\n",
      "criando citações do nó 36\n",
      "criando citações do nó 37\n",
      "criando citações do nó 38\n",
      "criando citações do nó 39\n",
      "criando citações do nó 40\n",
      "criando citações do nó 41\n",
      "criando citações do nó 42\n",
      "criando citações do nó 43\n",
      "criando citações do nó 44\n",
      "criando citações do nó 45\n",
      "criando citações do nó 46\n",
      "criando citações do nó 47\n",
      "criando citações do nó 48\n",
      "criando citações do nó 49\n",
      "criando citações do nó 50\n",
      "criando citações do nó 51\n",
      "criando citações do nó 52\n",
      "criando citações do nó 53\n",
      "criando citações do nó 54\n",
      "criando citações do nó 55\n",
      "criando citações do nó 56\n",
      "criando citações do nó 57\n",
      "criando citações do nó 58\n",
      "criando citações do nó 59\n",
      "criando citações do nó 60\n",
      "criando citações do nó 61\n",
      "criando citações do nó 62\n",
      "criando citações do nó 63\n",
      "criando citações do nó 64\n",
      "criando citações do nó 65\n",
      "criando citações do nó 66\n",
      "criando citações do nó 67\n",
      "criando citações do nó 68\n",
      "criando citações do nó 69\n",
      "criando citações do nó 70\n",
      "criando citações do nó 71\n",
      "criando citações do nó 72\n",
      "criando citações do nó 73\n",
      "criando citações do nó 74\n",
      "criando citações do nó 75\n",
      "criando citações do nó 76\n",
      "criando citações do nó 77\n",
      "criando citações do nó 78\n",
      "criando citações do nó 79\n",
      "criando citações do nó 80\n",
      "criando citações do nó 81\n",
      "criando citações do nó 82\n",
      "criando citações do nó 83\n",
      "criando citações do nó 84\n",
      "criando citações do nó 85\n",
      "criando citações do nó 86\n",
      "criando citações do nó 87\n",
      "criando citações do nó 88\n",
      "criando citações do nó 89\n",
      "criando citações do nó 90\n",
      "criando citações do nó 91\n",
      "criando citações do nó 92\n",
      "criando citações do nó 93\n",
      "criando citações do nó 94\n",
      "criando citações do nó 95\n",
      "criando citações do nó 96\n",
      "criando citações do nó 97\n",
      "criando citações do nó 98\n",
      "criando citações do nó 99\n"
     ]
    }
   ],
   "source": [
    "g = nx.empty_graph(NUM_NODES, create_using=nx.DiGraph())\n",
    "\n",
    "for n in g.nodes:\n",
    "    g.nodes[n]['quality'] = norm.rvs()\n",
    "\n",
    "for n in g.nodes:\n",
    "    print('criando citações do nó {}'.format(n))\n",
    "\n",
    "    alters = [m for m in g.nodes if n != m]\n",
    "\n",
    "    gains = [gain(g, n, m) for m in alters]\n",
    "\n",
    "    shift = min(gains)\n",
    "\n",
    "    weights = [gain - shift for gain in gains]\n",
    "\n",
    "    for m in choices(alters, weights, k=NUM_EDGES):\n",
    "        g.add_edge(n, m)"
   ]
  },
  {
   "cell_type": "markdown",
   "metadata": {
    "deletable": false,
    "editable": false
   },
   "source": [
    "### Histograma"
   ]
  },
  {
   "cell_type": "code",
   "execution_count": 8,
   "metadata": {
    "deletable": false,
    "editable": false
   },
   "outputs": [
    {
     "data": {
      "image/png": "[encoded data removed]",
      "text/plain": [
       "<Figure size 432x288 with 1 Axes>"
      ]
     },
     "metadata": {},
     "output_type": "display_data"
    }
   ],
   "source": [
    "hist = plt.hist([g.in_degree(n) for n in g.nodes])\n",
    "xdata = [(l + r) / 2 for l, r in zip(hist[1][:-1], hist[1][1:])]\n",
    "ydata = [h + 1 for h in hist[0]]\n",
    "\n",
    "reg = linregress(np.log(xdata), np.log(ydata))\n",
    "\n",
    "plt.plot(xdata, [x ** reg[0] * np.exp(reg[1]) - 1 for x in xdata])\n",
    "\n",
    "plt.show()"
   ]
  },
  {
   "cell_type": "markdown",
   "metadata": {
    "deletable": false,
    "editable": false
   },
   "source": [
    "### Gravação"
   ]
  },
  {
   "cell_type": "code",
   "execution_count": 9,
   "metadata": {
    "deletable": false,
    "editable": false
   },
   "outputs": [],
   "source": [
    "nx.write_gml(g, 'saida.gml')"
   ]
  },
  {
   "cell_type": "code",
   "execution_count": null,
   "metadata": {},
   "outputs": [],
   "source": []
  }
 ],
 "metadata": {
  "kernelspec": {
   "display_name": "Python 3",
   "language": "python",
   "name": "python3"
  },
  "language_info": {
   "codemirror_mode": {
    "name": "ipython",
    "version": 3
   },
   "file_extension": ".py",
   "mimetype": "text/x-python",
   "name": "python",
   "nbconvert_exporter": "python",
   "pygments_lexer": "ipython3",
   "version": "3.6.5"
  }
 },
 "nbformat": 4,
 "nbformat_minor": 1
}

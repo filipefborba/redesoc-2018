{
 "cells": [
  {
   "cell_type": "markdown",
   "metadata": {},
   "source": [
    "# Lacunas Estruturais\n",
    "\n",
    "Importando bibliotecas:"
   ]
  },
  {
   "cell_type": "code",
   "execution_count": null,
   "metadata": {
    "scrolled": true
   },
   "outputs": [],
   "source": [
    "import pandas as pd\n",
    "import networkx as nx\n",
    "import socnet as sn\n",
    "\n",
    "from random import shuffle\n",
    "from itertools import combinations"
   ]
  },
  {
   "cell_type": "markdown",
   "metadata": {},
   "source": [
    "Configurando bibliotecas:"
   ]
  },
  {
   "cell_type": "code",
   "execution_count": null,
   "metadata": {},
   "outputs": [],
   "source": [
    "sn.node_size = 5\n",
    "\n",
    "sn.edge_width = 1\n",
    "sn.edge_color = (191, 191, 191)"
   ]
  },
  {
   "cell_type": "markdown",
   "metadata": {},
   "source": [
    "Definindo constantes:"
   ]
  },
  {
   "cell_type": "code",
   "execution_count": null,
   "metadata": {},
   "outputs": [],
   "source": [
    "FRAC_CLOSERS = 0.5\n",
    "\n",
    "NUM_NODES = 25\n",
    "\n",
    "DENSITY = 0.5\n",
    "\n",
    "OPENER = 0\n",
    "CLOSER = 1\n",
    "\n",
    "OPENER_COLOR = (255, 0, 0)\n",
    "CLOSER_COLOR = (0, 0, 255)"
   ]
  },
  {
   "cell_type": "markdown",
   "metadata": {},
   "source": [
    "Exemplo de grafo:\n",
    "\n",
    "(esse grafo representa o *ambiente* do modelo)"
   ]
  },
  {
   "cell_type": "code",
   "execution_count": null,
   "metadata": {},
   "outputs": [],
   "source": [
    "def build_graph():\n",
    "    g = nx.erdos_renyi_graph(NUM_NODES, DENSITY)\n",
    "\n",
    "    sn.reset_node_colors(g)\n",
    "    sn.reset_edge_colors(g)\n",
    "\n",
    "    return g\n",
    "\n",
    "\n",
    "g = build_graph()\n",
    "\n",
    "sn.reset_positions(g)\n",
    "\n",
    "sn.show_graph(g)"
   ]
  },
  {
   "cell_type": "markdown",
   "metadata": {},
   "source": [
    "Exemplo de distribuição de tipos de nó:\n",
    "\n",
    "(esses tipos representam os *agentes* do modelo)"
   ]
  },
  {
   "cell_type": "code",
   "execution_count": null,
   "metadata": {},
   "outputs": [],
   "source": [
    "def set_types(g, num_closers=0):\n",
    "    nodes = list(g.nodes)\n",
    "    shuffle(nodes)\n",
    "\n",
    "    for n in nodes[num_closers:]:\n",
    "        g.nodes[n]['type'] = OPENER\n",
    "\n",
    "    for n in nodes[:num_closers]:\n",
    "        g.nodes[n]['type'] = CLOSER\n",
    "\n",
    "    for n in g.nodes:\n",
    "        if g.nodes[n]['type'] == OPENER:\n",
    "            g.nodes[n]['color'] = OPENER_COLOR\n",
    "        else:\n",
    "            g.nodes[n]['color'] = CLOSER_COLOR\n",
    "\n",
    "\n",
    "set_types(g, int(NUM_NODES / 2))\n",
    "\n",
    "sn.show_graph(g)"
   ]
  },
  {
   "cell_type": "markdown",
   "metadata": {},
   "source": [
    "Custo de manter uma relação do nó $n$:\n",
    "\n",
    "$$c_n = \\left\\{\\begin{array}{cl}\n",
    "0             & \\textrm{se }d_n = 0\\textrm{;} \\\\\n",
    "\\frac{1}{d_n} & \\textrm{caso contrário,} \\\\\n",
    "\\end{array}\\right.$$\n",
    "\n",
    "onde $d_n$ é o grau de $n$."
   ]
  },
  {
   "cell_type": "code",
   "execution_count": null,
   "metadata": {},
   "outputs": [],
   "source": [
    "def cost(g, n):\n",
    "    dn = g.degree(n)\n",
    "\n",
    "    if dn == 0:\n",
    "        return 0\n",
    "    return 1 / dn"
   ]
  },
  {
   "cell_type": "markdown",
   "metadata": {},
   "source": [
    "Restrição do nó $n$ para *openers* (fórmula de Burt):\n",
    "\n",
    "$$\\sum_{m \\in N_n} \\left(c_n + \\sum_{k \\in N_n, k \\in N_m} c_n c_k\\right)^2\\textrm{,}$$\n",
    "\n",
    "onde $N_n$ é o conjunto de vizinhos de $n$.\n",
    "\n",
    "Esta fórmula parte da premissa de que o nó não está isolado.\n",
    "\n",
    "Interpretação informal: o agente busca aumentar suas conexões e prefere conexões indiretas."
   ]
  },
  {
   "cell_type": "code",
   "execution_count": null,
   "metadata": {},
   "outputs": [],
   "source": [
    "def opener_constraint(g, n):\n",
    "    constraint = 0\n",
    "\n",
    "    for m in g.neighbors(n):\n",
    "        sub_constraint = cost(g, n)\n",
    "\n",
    "        for k in g.neighbors(n):\n",
    "            if g.has_edge(k, m):\n",
    "                sub_constraint += cost(g, n) * cost(g, k)\n",
    "\n",
    "        constraint += sub_constraint**2\n",
    "\n",
    "    return constraint"
   ]
  },
  {
   "cell_type": "markdown",
   "metadata": {},
   "source": [
    "Restrição do nó $n$ para *closers* (uma fórmula alternativa):\n",
    "\n",
    "$$\\frac{9}{8} - b_n\\textrm{,}$$\n",
    "\n",
    "onde $b_n$ é a fórmula de Burt.\n",
    "\n",
    "Esta fórmula parte da premissa de que o nó não está isolado.\n",
    "\n",
    "Interpretação informal: o agente busca diminuir suas conexões e prefere conexões diretas."
   ]
  },
  {
   "cell_type": "code",
   "execution_count": null,
   "metadata": {},
   "outputs": [],
   "source": [
    "def closer_constraint(g, n):\n",
    "    return 9/8 - opener_constraint(g, n)"
   ]
  },
  {
   "cell_type": "markdown",
   "metadata": {},
   "source": [
    "Restrição geral do nó $n$:\n",
    "\n",
    "* se o nó estiver isolado, é igual a $2$;\n",
    "* caso contrário, depende de qual é o tipo."
   ]
  },
  {
   "cell_type": "code",
   "execution_count": null,
   "metadata": {},
   "outputs": [],
   "source": [
    "def constraint(g, n):\n",
    "    if g.degree(n) == 0:\n",
    "        return 2\n",
    "\n",
    "    if g.nodes[n]['type'] == OPENER:\n",
    "        return opener_constraint(g, n)\n",
    "    return closer_constraint(g, n)"
   ]
  },
  {
   "cell_type": "markdown",
   "metadata": {},
   "source": [
    "Inicialização da simulação:"
   ]
  },
  {
   "cell_type": "code",
   "execution_count": null,
   "metadata": {},
   "outputs": [],
   "source": [
    "def initialize(g):\n",
    "    for n in g.nodes:\n",
    "        g.nodes[n]['constraint'] = constraint(g, n)"
   ]
  },
  {
   "cell_type": "markdown",
   "metadata": {},
   "source": [
    "Passo da simulação:\n",
    "\n",
    "1. escolha aleatoriamente um par de nós;\n",
    "2. considere uma *inversão* da situação desse par, ou seja, remover a aresta se ela existir ou adicionar se não existir;\n",
    "3. calcule o *ganho* de cada um desses nós, ou seja, a redução da restrição como consequência dessa inversão;\n",
    "4. no caso particular em que a inversão foi adição, se um dos ganhos for negativo, os dois ganhos são redefinidos como zero *(justificativa no código)*;\n",
    "5. se um dos ganhos foi positivo aceite a inversão e termine o passo, senão volte para (1);\n",
    "6. se todos os pares foram escolhidos e nenhuma inversão foi aceita, termine o passo."
   ]
  },
  {
   "cell_type": "code",
   "execution_count": null,
   "metadata": {},
   "outputs": [],
   "source": [
    "def invert(g, n, m):\n",
    "    if g.has_edge(n, m):\n",
    "        g.remove_edge(n, m)\n",
    "    else:\n",
    "        g.add_edge(n, m)\n",
    "        g.edges[n, m]['color'] = sn.edge_color\n",
    "\n",
    "\n",
    "def update(g):\n",
    "    # Para cada par de nós, em ordem aleatória.\n",
    "\n",
    "    pairs = list(combinations(g.nodes, 2))\n",
    "    shuffle(pairs)\n",
    "\n",
    "    for n, m in pairs:\n",
    "        # Inverte a situação do par.\n",
    "        invert(g, n, m)\n",
    "\n",
    "        # Calcula as restrições após inversão.\n",
    "        constraint_n = constraint(g, n)\n",
    "        constraint_m = constraint(g, m)\n",
    "\n",
    "        # Calcula os ganhos após inversão,\n",
    "        # (lembrando que restrição é ruim)\n",
    "        gain_n = g.nodes[n]['constraint'] - constraint_n\n",
    "        gain_m = g.nodes[m]['constraint'] - constraint_m\n",
    "\n",
    "        # Se a inversão foi adição e um dos nós foi prejudicado,\n",
    "        # então o ganho é zero porque essa inversão é impossível.\n",
    "        # (você não pode forçar uma pessoa a manter uma relação)\n",
    "        if g.has_edge(n, m) and (gain_n < 0 or gain_m < 0):\n",
    "            gain_n = 0\n",
    "            gain_m = 0\n",
    "\n",
    "        # Se algum nó teve um ganho, aceita a inversão e\n",
    "        # considera o passo da simulação como terminado,\n",
    "        # devolvendo True para indicar que houve mudança.\n",
    "        if gain_n > 0 or gain_m > 0:\n",
    "            g.nodes[n]['constraint'] = constraint_n\n",
    "            g.nodes[m]['constraint'] = constraint_m\n",
    "            return True\n",
    "\n",
    "        # Se nenhum nó teve um ganho, essa inversão não é aceita.\n",
    "        # Restauramos, portanto, a situação original do par de nós.\n",
    "        invert(g, n, m)\n",
    "\n",
    "    # Se passamos por todos os pares e nenhuma inversão foi aceita,\n",
    "    # considera o passo da simulação como terminado, devolvendo\n",
    "    # False para indicar que não houve mudança: a rede estabilizou.\n",
    "    return False"
   ]
  },
  {
   "cell_type": "markdown",
   "metadata": {},
   "source": [
    "Simulação com visualização, quando todos os nós buscam reduzir a restrição de Burt:"
   ]
  },
  {
   "cell_type": "code",
   "execution_count": null,
   "metadata": {},
   "outputs": [],
   "source": [
    "def simulate(num_closers):\n",
    "    g = build_graph()\n",
    "\n",
    "    set_types(g, num_closers)\n",
    "\n",
    "    initialize(g)\n",
    "\n",
    "    while update(g):\n",
    "        pass\n",
    "\n",
    "    return g\n",
    "\n",
    "\n",
    "num_closers = 0\n",
    "\n",
    "g = simulate(num_closers)\n",
    "\n",
    "sn.reset_positions(g)\n",
    "\n",
    "sn.show_graph(g)"
   ]
  },
  {
   "cell_type": "markdown",
   "metadata": {},
   "source": [
    "Inversão da visualização:"
   ]
  },
  {
   "cell_type": "code",
   "execution_count": null,
   "metadata": {},
   "outputs": [],
   "source": [
    "def inver_show(g):\n",
    "    cg = nx.complement(g)\n",
    "\n",
    "    sn.reset_positions(cg)\n",
    "\n",
    "    for n in g.nodes:\n",
    "        g.nodes[n]['pos'] = cg.nodes[n]['pos']\n",
    "\n",
    "    sn.show_graph(g)\n",
    "\n",
    "\n",
    "inver_show(g)"
   ]
  },
  {
   "cell_type": "markdown",
   "metadata": {},
   "source": [
    "Distribuição de *betweenness*:"
   ]
  },
  {
   "cell_type": "code",
   "execution_count": null,
   "metadata": {},
   "outputs": [],
   "source": [
    "betweenness = nx.betweenness_centrality(g)\n",
    "\n",
    "df = pd.DataFrame({\n",
    "    'betweenness': [betweenness[n] for n in g.nodes],\n",
    "})\n",
    "\n",
    "df.describe()"
   ]
  },
  {
   "cell_type": "markdown",
   "metadata": {},
   "source": [
    "Simulação com visualização, quando apenas uma minoria dos nós busca reduzir a restrição de Burt, enquanto todos os outros buscam aumentar:"
   ]
  },
  {
   "cell_type": "code",
   "execution_count": null,
   "metadata": {},
   "outputs": [],
   "source": [
    "num_closers = int(FRAC_CLOSERS * NUM_NODES)\n",
    "\n",
    "g = simulate(num_closers)\n",
    "\n",
    "sn.reset_positions(g)\n",
    "\n",
    "sn.show_graph(g)"
   ]
  },
  {
   "cell_type": "markdown",
   "metadata": {},
   "source": [
    "Distribuição de *betweenness*:"
   ]
  },
  {
   "cell_type": "code",
   "execution_count": null,
   "metadata": {},
   "outputs": [],
   "source": [
    "betweenness = nx.betweenness_centrality(g)\n",
    "\n",
    "df = pd.DataFrame({\n",
    "    'betweenness': [betweenness[n] for n in g.nodes],\n",
    "})\n",
    "\n",
    "df.describe()"
   ]
  },
  {
   "cell_type": "markdown",
   "metadata": {},
   "source": [
    "Distribuição de *betweenness* dos *openers*:"
   ]
  },
  {
   "cell_type": "code",
   "execution_count": null,
   "metadata": {},
   "outputs": [],
   "source": [
    "betweenness = nx.betweenness_centrality(g)\n",
    "\n",
    "df = pd.DataFrame({\n",
    "    'betweenness': [betweenness[n] for n in g.nodes if g.nodes[n]['type'] == OPENER],\n",
    "})\n",
    "\n",
    "df.describe()"
   ]
  },
  {
   "cell_type": "markdown",
   "metadata": {},
   "source": [
    "Distribuição de *betweenness* dos *closers*:"
   ]
  },
  {
   "cell_type": "code",
   "execution_count": null,
   "metadata": {},
   "outputs": [],
   "source": [
    "betweenness = nx.betweenness_centrality(g)\n",
    "\n",
    "df = pd.DataFrame({\n",
    "    'betweenness': [betweenness[n] for n in g.nodes if g.nodes[n]['type'] == CLOSER],\n",
    "})\n",
    "\n",
    "df.describe()"
   ]
  },
  {
   "cell_type": "code",
   "execution_count": null,
   "metadata": {},
   "outputs": [],
   "source": []
  }
 ],
 "metadata": {
  "kernelspec": {
   "display_name": "Python 3",
   "language": "python",
   "name": "python3"
  },
  "language_info": {
   "codemirror_mode": {
    "name": "ipython",
    "version": 3
   },
   "file_extension": ".py",
   "mimetype": "text/x-python",
   "name": "python",
   "nbconvert_exporter": "python",
   "pygments_lexer": "ipython3",
   "version": "3.6.5"
  }
 },
 "nbformat": 4,
 "nbformat_minor": 1
}
